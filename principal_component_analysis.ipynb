{
 "cells": [
  {
   "cell_type": "markdown",
   "metadata": {
    "colab_type": "text",
    "id": "VQ3syspj_rKn"
   },
   "source": [
    "# Principal Component Analysis (PCA)"
   ]
  },
  {
   "cell_type": "markdown",
   "metadata": {},
   "source": [
    "# Principal Component Analysis (PCA)\n",
    "\n",
    "### Principal Component Analysis (PCA) is a powerful dimensionality reduction technique used to simplify complex, high-dimensional datasets.\n",
    "### In today's world, datasets often contain a large number of features, making both data visualization and machine learning model training challenging and time-consuming.\n",
    "\n",
    "### This project explores how PCA can be used for:\n",
    "\n",
    "* Data Visualization: By reducing data dimensions to 2 or 3, we can easily observe hidden structures and patterns within the data.\n",
    "* Speeding Up Machine Learning Algorithms: By reducing the number of input features without losing essential information, the training and testing time of machine learning models can be significantly decreased.\n",
    "\n",
    "### Importing Necessary Libraries\n",
    "\n",
    "### %matplotlib inline for displaying plots directly in Jupyter Notebook (if applicable)"
   ]
  },
  {
   "cell_type": "markdown",
   "metadata": {
    "colab_type": "text",
    "id": "xJGl9TcT_skx"
   },
   "source": [
    "## Importing the libraries"
   ]
  },
  {
   "cell_type": "code",
   "execution_count": null,
   "metadata": {
    "colab": {},
    "colab_type": "code",
    "id": "BNEgrGwd_29D"
   },
   "outputs": [],
   "source": [
    "# %matplotlib inline for displaying plots directly in Jupyter Notebook (if applicable)\n",
    "import numpy as np # برای عملیات عددی و آرایه‌ها (for numerical operations and arrays)\n",
    "import pandas as pd # برای کار با دیتافریم‌ها و تحلیل داده (for working with DataFrames and data analysis)\n",
    "import matplotlib.pyplot as plt # برای رسم نمودارها (for plotting charts)\n",
    "import seaborn as sns # برای بصری‌سازی داده‌ها به شکلی جذاب‌تر (for more attractive data visualization)\n",
    "from sklearn.decomposition import PCA # PCA class from Scikit-learn for performing Principal Component Analysis\n",
    "from sklearn.preprocessing import StandardScaler # برای مقیاس‌بندی ویژگی‌ها (استانداردسازی) (for feature scaling - standardization)\n"
   ]
  },
  {
   "cell_type": "markdown",
   "metadata": {
    "colab_type": "text",
    "id": "Hyp1gza1_6qX"
   },
   "source": [
    "## Importing the dataset"
   ]
  },
  {
   "cell_type": "code",
   "execution_count": null,
   "metadata": {
    "colab": {},
    "colab_type": "code",
    "id": "lPLTDBVI__ZQ"
   },
   "outputs": [],
   "source": [
    "# Load the Iris dataset from a CSV file.\n",
    "# Ensure that 'iris.csv' file is located in the same directory as this notebook.\n",
    "df = pd.read_csv('iris.csv')\n",
    "X = df.iloc[:,0:4].values\n",
    "# Labels (column 4) represent the Iris flower species.\n",
    "y = df.iloc[:,4].values"
   ]
  },
  {
   "cell_type": "code",
   "execution_count": null,
   "metadata": {},
   "outputs": [],
   "source": [
    "# Display the first 5 rows of the DataFrame for initial inspection.\n",
    "print(\"Sample of the original data:\")\n",
    "print(df.head())"
   ]
  },
  {
   "cell_type": "markdown",
   "metadata": {
    "colab_type": "text",
    "id": "1wrHODfJAEiI"
   },
   "source": [
    "## Feature Scaling"
   ]
  },
  {
   "cell_type": "code",
   "execution_count": null,
   "metadata": {
    "colab": {},
    "colab_type": "code",
    "id": "W-UCD7ezAJG2"
   },
   "outputs": [],
   "source": [
    "# Feature scaling is a crucial step before applying PCA.\n",
    "# PCA is sensitive to feature variances, so features with larger values might have a disproportionately larger impact.\n",
    "# StandardScaler transforms the data to have a mean of zero and a unit variance.\n",
    "from sklearn.preprocessing import StandardScaler\n",
    "sc = StandardScaler()\n",
    "X = sc.fit_transform(X)"
   ]
  },
  {
   "cell_type": "code",
   "execution_count": null,
   "metadata": {},
   "outputs": [],
   "source": [
    "print(\"Sample of the scaled data:\")\n",
    "print(X_scaled[:5])"
   ]
  },
  {
   "cell_type": "markdown",
   "metadata": {},
   "source": [
    "<img src=\"https://miro.medium.com/max/875/1*Qxyo-uDrmsUzdxIe7Nnsmg.png\" width=80% />"
   ]
  },
  {
   "cell_type": "markdown",
   "metadata": {
    "colab_type": "text",
    "id": "S3i3lRiwASAX"
   },
   "source": [
    "## Applying PCA"
   ]
  },
  {
   "cell_type": "code",
   "execution_count": null,
   "metadata": {
    "colab": {},
    "colab_type": "code",
    "id": "TAi_sSw9AVzI",
    "scrolled": true
   },
   "outputs": [],
   "source": [
    "# Define the PCA model with 2 principal components.\n",
    "# Our goal is to reduce dimensionality from 4 to 2 for visualization purposes.\n",
    "pca_df = PCA(n_components = 2)\n",
    "# Apply PCA to the scaled data.\n",
    "# fit_transform both trains the model and transforms the data.\n",
    "X = pca_df.fit_transform(X)"
   ]
  },
  {
   "cell_type": "code",
   "execution_count": null,
   "metadata": {},
   "outputs": [],
   "source": [
    "# Create a new DataFrame from the principal components.\n",
    "maindf = pd.DataFrame(data = X, columns = ['principal component 1', 'principal component 2'])"
   ]
  },
  {
   "cell_type": "code",
   "execution_count": 19,
   "metadata": {},
   "outputs": [
    {
     "data": {
      "text/html": [
       "<div>\n",
       "<style scoped>\n",
       "    .dataframe tbody tr th:only-of-type {\n",
       "        vertical-align: middle;\n",
       "    }\n",
       "\n",
       "    .dataframe tbody tr th {\n",
       "        vertical-align: top;\n",
       "    }\n",
       "\n",
       "    .dataframe thead th {\n",
       "        text-align: right;\n",
       "    }\n",
       "</style>\n",
       "<table border=\"1\" class=\"dataframe\">\n",
       "  <thead>\n",
       "    <tr style=\"text-align: right;\">\n",
       "      <th></th>\n",
       "      <th>principal component 1</th>\n",
       "      <th>principal component 2</th>\n",
       "    </tr>\n",
       "  </thead>\n",
       "  <tbody>\n",
       "    <tr>\n",
       "      <th>0</th>\n",
       "      <td>-2.501021</td>\n",
       "      <td>0.451868</td>\n",
       "    </tr>\n",
       "    <tr>\n",
       "      <th>1</th>\n",
       "      <td>-2.279945</td>\n",
       "      <td>-0.696698</td>\n",
       "    </tr>\n",
       "    <tr>\n",
       "      <th>2</th>\n",
       "      <td>-2.559435</td>\n",
       "      <td>-0.383488</td>\n",
       "    </tr>\n",
       "    <tr>\n",
       "      <th>3</th>\n",
       "      <td>-2.476060</td>\n",
       "      <td>-0.636243</td>\n",
       "    </tr>\n",
       "    <tr>\n",
       "      <th>4</th>\n",
       "      <td>-2.579407</td>\n",
       "      <td>0.611050</td>\n",
       "    </tr>\n",
       "    <tr>\n",
       "      <th>...</th>\n",
       "      <td>...</td>\n",
       "      <td>...</td>\n",
       "    </tr>\n",
       "    <tr>\n",
       "      <th>145</th>\n",
       "      <td>1.953963</td>\n",
       "      <td>0.391855</td>\n",
       "    </tr>\n",
       "    <tr>\n",
       "      <th>146</th>\n",
       "      <td>1.982991</td>\n",
       "      <td>-0.866112</td>\n",
       "    </tr>\n",
       "    <tr>\n",
       "      <th>147</th>\n",
       "      <td>1.854045</td>\n",
       "      <td>0.290264</td>\n",
       "    </tr>\n",
       "    <tr>\n",
       "      <th>148</th>\n",
       "      <td>1.478182</td>\n",
       "      <td>0.982267</td>\n",
       "    </tr>\n",
       "    <tr>\n",
       "      <th>149</th>\n",
       "      <td>1.469901</td>\n",
       "      <td>-0.019039</td>\n",
       "    </tr>\n",
       "  </tbody>\n",
       "</table>\n",
       "<p>150 rows × 2 columns</p>\n",
       "</div>"
      ],
      "text/plain": [
       "     principal component 1  principal component 2\n",
       "0                -2.501021               0.451868\n",
       "1                -2.279945              -0.696698\n",
       "2                -2.559435              -0.383488\n",
       "3                -2.476060              -0.636243\n",
       "4                -2.579407               0.611050\n",
       "..                     ...                    ...\n",
       "145               1.953963               0.391855\n",
       "146               1.982991              -0.866112\n",
       "147               1.854045               0.290264\n",
       "148               1.478182               0.982267\n",
       "149               1.469901              -0.019039\n",
       "\n",
       "[150 rows x 2 columns]"
      ]
     },
     "execution_count": 19,
     "metadata": {},
     "output_type": "execute_result"
    }
   ],
   "source": [
    "maindf"
   ]
  },
  {
   "cell_type": "code",
   "execution_count": 20,
   "metadata": {},
   "outputs": [
    {
     "data": {
      "text/plain": [
       "array([[ 0.55318314,  0.51774664, -0.28847469,  0.58541369],\n",
       "       [ 0.00902118,  0.42093567,  0.90471285,  0.06501105]])"
      ]
     },
     "execution_count": 20,
     "metadata": {},
     "output_type": "execute_result"
    }
   ],
   "source": [
    "pca_df.components_"
   ]
  },
  {
   "cell_type": "markdown",
   "metadata": {},
   "source": [
    "<img src=\"https://miro.medium.com/max/875/1*7jUCr36YguAMKNHTN4Gt8A.png\" width=80% />"
   ]
  },
  {
   "cell_type": "code",
   "execution_count": 21,
   "metadata": {},
   "outputs": [
    {
     "data": {
      "text/plain": [
       "array([2.83122907, 0.92107083])"
      ]
     },
     "execution_count": 21,
     "metadata": {},
     "output_type": "execute_result"
    }
   ],
   "source": [
    "pca_df.explained_variance_"
   ]
  },
  {
   "cell_type": "code",
   "execution_count": 22,
   "metadata": {},
   "outputs": [
    {
     "data": {
      "text/html": [
       "<div>\n",
       "<style scoped>\n",
       "    .dataframe tbody tr th:only-of-type {\n",
       "        vertical-align: middle;\n",
       "    }\n",
       "\n",
       "    .dataframe tbody tr th {\n",
       "        vertical-align: top;\n",
       "    }\n",
       "\n",
       "    .dataframe thead th {\n",
       "        text-align: right;\n",
       "    }\n",
       "</style>\n",
       "<table border=\"1\" class=\"dataframe\">\n",
       "  <thead>\n",
       "    <tr style=\"text-align: right;\">\n",
       "      <th></th>\n",
       "      <th>principal component 1</th>\n",
       "      <th>principal component 2</th>\n",
       "      <th>Species</th>\n",
       "    </tr>\n",
       "  </thead>\n",
       "  <tbody>\n",
       "    <tr>\n",
       "      <th>0</th>\n",
       "      <td>-2.501021</td>\n",
       "      <td>0.451868</td>\n",
       "      <td>Iris-setosa</td>\n",
       "    </tr>\n",
       "    <tr>\n",
       "      <th>1</th>\n",
       "      <td>-2.279945</td>\n",
       "      <td>-0.696698</td>\n",
       "      <td>Iris-setosa</td>\n",
       "    </tr>\n",
       "    <tr>\n",
       "      <th>2</th>\n",
       "      <td>-2.559435</td>\n",
       "      <td>-0.383488</td>\n",
       "      <td>Iris-setosa</td>\n",
       "    </tr>\n",
       "    <tr>\n",
       "      <th>3</th>\n",
       "      <td>-2.476060</td>\n",
       "      <td>-0.636243</td>\n",
       "      <td>Iris-setosa</td>\n",
       "    </tr>\n",
       "    <tr>\n",
       "      <th>4</th>\n",
       "      <td>-2.579407</td>\n",
       "      <td>0.611050</td>\n",
       "      <td>Iris-setosa</td>\n",
       "    </tr>\n",
       "    <tr>\n",
       "      <th>...</th>\n",
       "      <td>...</td>\n",
       "      <td>...</td>\n",
       "      <td>...</td>\n",
       "    </tr>\n",
       "    <tr>\n",
       "      <th>145</th>\n",
       "      <td>1.953963</td>\n",
       "      <td>0.391855</td>\n",
       "      <td>Iris-virginica</td>\n",
       "    </tr>\n",
       "    <tr>\n",
       "      <th>146</th>\n",
       "      <td>1.982991</td>\n",
       "      <td>-0.866112</td>\n",
       "      <td>Iris-virginica</td>\n",
       "    </tr>\n",
       "    <tr>\n",
       "      <th>147</th>\n",
       "      <td>1.854045</td>\n",
       "      <td>0.290264</td>\n",
       "      <td>Iris-virginica</td>\n",
       "    </tr>\n",
       "    <tr>\n",
       "      <th>148</th>\n",
       "      <td>1.478182</td>\n",
       "      <td>0.982267</td>\n",
       "      <td>Iris-virginica</td>\n",
       "    </tr>\n",
       "    <tr>\n",
       "      <th>149</th>\n",
       "      <td>1.469901</td>\n",
       "      <td>-0.019039</td>\n",
       "      <td>Iris-virginica</td>\n",
       "    </tr>\n",
       "  </tbody>\n",
       "</table>\n",
       "<p>150 rows × 3 columns</p>\n",
       "</div>"
      ],
      "text/plain": [
       "     principal component 1  principal component 2         Species\n",
       "0                -2.501021               0.451868     Iris-setosa\n",
       "1                -2.279945              -0.696698     Iris-setosa\n",
       "2                -2.559435              -0.383488     Iris-setosa\n",
       "3                -2.476060              -0.636243     Iris-setosa\n",
       "4                -2.579407               0.611050     Iris-setosa\n",
       "..                     ...                    ...             ...\n",
       "145               1.953963               0.391855  Iris-virginica\n",
       "146               1.982991              -0.866112  Iris-virginica\n",
       "147               1.854045               0.290264  Iris-virginica\n",
       "148               1.478182               0.982267  Iris-virginica\n",
       "149               1.469901              -0.019039  Iris-virginica\n",
       "\n",
       "[150 rows x 3 columns]"
      ]
     },
     "execution_count": 22,
     "metadata": {},
     "output_type": "execute_result"
    }
   ],
   "source": [
    "finaldf = pd.concat([maindf, df[['Species']]], axis = 1)\n",
    "finaldf"
   ]
  },
  {
   "cell_type": "markdown",
   "metadata": {
    "colab_type": "text",
    "id": "-Dbzx_KqBguX"
   },
   "source": [
    "## Visualising the results"
   ]
  },
  {
   "cell_type": "code",
   "execution_count": null,
   "metadata": {},
   "outputs": [
    {
     "data": {
      "image/png": "[encoded data removed]",
      "text/plain": [
       "<Figure size 800x800 with 1 Axes>"
      ]
     },
     "metadata": {},
     "output_type": "display_data"
    }
   ],
   "source": [
    "fig = plt.figure(figsize = (8,8))\n",
    "ax = fig.add_subplot(1,1,1) \n",
    "ax.set_xlabel('Principal Component 1', fontsize = 15)\n",
    "ax.set_ylabel('Principal Component 2', fontsize = 15)\n",
    "ax.set_title('2 component PCA', fontsize = 20)\n",
    "targets = ['Iris-setosa', 'Iris-versicolor', 'Iris-virginica']\n",
    "colors = ['r', 'g', 'b']\n",
    "for target, color in zip(targets,colors):\n",
    "    indicesToKeep = finaldf['Species'] == target\n",
    "    ax.scatter(finaldf.loc[indicesToKeep, 'principal component 1']\n",
    "               , finaldf.loc[indicesToKeep, 'principal component 2']\n",
    "               , c = color\n",
    "               , s = 50)\n",
    "ax.legend(targets)\n",
    "ax.grid()"
   ]
  }
 ],
 "metadata": {
  "colab": {
   "collapsed_sections": [],
   "name": "principal_component_analysis.ipynb",
   "provenance": []
  },
  "kernelspec": {
   "display_name": "ai",
   "language": "python",
   "name": "python3"
  },
  "language_info": {
   "codemirror_mode": {
    "name": "ipython",
    "version": 3
   },
   "file_extension": ".py",
   "mimetype": "text/x-python",
   "name": "python",
   "nbconvert_exporter": "python",
   "pygments_lexer": "ipython3",
   "version": "3.9.21"
  }
 },
 "nbformat": 4,
 "nbformat_minor": 1
}
